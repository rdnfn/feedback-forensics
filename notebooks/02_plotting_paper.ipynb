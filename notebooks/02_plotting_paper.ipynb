{
 "cells": [
  {
   "cell_type": "code",
   "execution_count": null,
   "metadata": {},
   "outputs": [],
   "source": [
    "import feedback_forensics as ff\n",
    "import feedback_forensics.app.plotting.paper as paper_plot\n",
    "import pathlib\n",
    "from IPython.display import display, Latex\n",
    "\n",
    "data_path = pathlib.Path(\"../forensics-data/feedback-forensics-public-results\")\n",
    "fig_save_path = pathlib.Path(\"./output/figures\")\n",
    "tex_save_path = pathlib.Path(\"./output/tex\")\n",
    "\n",
    "# ensure save path exists\n",
    "fig_save_path.mkdir(parents=True, exist_ok=True)\n",
    "tex_save_path.mkdir(parents=True, exist_ok=True)\n",
    "\n",
    "datasets = [\n",
    "    [\"multipref_10k_v3.json\", \"MultiPref\"],\n",
    "    [\"llama4_arena_vs_public_version.json\", \"Llama 4 Arena vs Public\"],\n",
    "    [\"arena\", \"Chatbot Arena\"],\n",
    "    [\"prism\", \"PRISM\"],\n",
    "]\n",
    "\n",
    "cache = {}\n",
    "for dataset_path, dataset_name in datasets:\n",
    "    dataset = ff.DatasetHandler(cache=cache)\n",
    "    dataset.add_data_from_path(data_path / dataset_path)\n",
    "\n",
    "    overall_metrics = dataset.get_overall_metrics()\n",
    "    annotator_metrics = dataset.get_annotator_metrics()\n",
    "\n",
    "    metric_name = \"strength\"\n",
    "    strength_metrics = annotator_metrics[dataset_path.split(\".\")[0]][\"metrics\"][metric_name]\n",
    "\n",
    "    latex_table = paper_plot.get_latex_top_and_bottom_annotators(\n",
    "        annotator_metrics=strength_metrics,\n",
    "        metric_name=metric_name.capitalize(),\n",
    "        title=f\"Encouraged personality traits in {dataset_name}\"\n",
    "    )\n",
    "\n",
    "    with open(tex_save_path / f\"001_top_and_bottom_annotators_{dataset_path.split('.')[0]}.tex\", \"w\") as f:\n",
    "        f.write(latex_table)\n",
    "\n"
   ]
  },
  {
   "cell_type": "code",
   "execution_count": null,
   "metadata": {},
   "outputs": [],
   "source": [
    "# Analysis of Arena data\n",
    "import pandas as pd\n",
    "\n",
    "dataset_name = \"arena\"\n",
    "dataset = ff.DatasetHandler(cache=cache)\n",
    "dataset.add_data_from_path(data_path / dataset_name)\n",
    "\n",
    "general_df = dataset.first_handler.df\n",
    "values = [\n",
    "    'Creative Writing Prompts',\n",
    "    'Songwriting Prompts',\n",
    "    'Resume and Cover Letter Writing',\n",
    "    'Professional Email Communication',\n",
    "]\n",
    "dataset.split_by_col(col=\"narrower_category\", selected_vals=values)\n",
    "\n",
    "metrics_df = dataset.get_annotator_metrics_df(metric_name=\"strength\", index_col_name=\"Generate a response that...\")\n",
    "\n",
    "latex_str = paper_plot.get_latex_table_from_metrics_df(\n",
    "    metrics_df=metrics_df.head(10),\n",
    "    title=\"Encouraged personality traits across domains in Chatbot Arena\",\n",
    ")\n",
    "\n",
    "with open(tex_save_path / \"002_writing_tasks_arena.tex\", \"w\", encoding=\"utf-8\") as f:\n",
    "    f.write(latex_str)\n",
    "\n"
   ]
  },
  {
   "cell_type": "code",
   "execution_count": null,
   "metadata": {},
   "outputs": [],
   "source": []
  }
 ],
 "metadata": {
  "kernelspec": {
   "display_name": "Python 3",
   "language": "python",
   "name": "python3"
  },
  "language_info": {
   "codemirror_mode": {
    "name": "ipython",
    "version": 3
   },
   "file_extension": ".py",
   "mimetype": "text/x-python",
   "name": "python",
   "nbconvert_exporter": "python",
   "pygments_lexer": "ipython3",
   "version": "3.13.1"
  }
 },
 "nbformat": 4,
 "nbformat_minor": 2
}
