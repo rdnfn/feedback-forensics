{
 "cells": [
  {
   "cell_type": "code",
   "execution_count": null,
   "id": "7371be14",
   "metadata": {},
   "outputs": [],
   "source": [
    "import datasets\n",
    "\n",
    "dataset = datasets.load_dataset(\"lmarena-ai/arena-human-preference-100k\")\n",
    "df = dataset[\"train\"].to_pandas()\n",
    "\n",
    "# limit to between 3 and 10 turns\n",
    "df = df[df[\"turn\"].between(3, 10)]\n",
    "\n",
    "# limit to non-tie votes\n",
    "df = df[df[\"winner\"].isin([\"model_a\", \"model_b\"])]\n",
    "\n",
    "# limit to English-language conversations\n",
    "df = df[df[\"language\"] == \"English\"]\n",
    "\n",
    "# remove token counts from each turn\n",
    "def remove_token_counts(row):\n",
    "    for conversation in [\"conversation_a\", \"conversation_b\"]:\n",
    "        conv_list = row[conversation]\n",
    "        for turn in conv_list:\n",
    "            turn.pop(\"num_tokens\")\n",
    "        row[conversation] = conv_list\n",
    "    return row\n",
    "\n",
    "df = df.sample(2000)\n",
    "\n",
    "df = df.apply(remove_token_counts, axis=1)"
   ]
  },
  {
   "cell_type": "code",
   "execution_count": null,
   "id": "44098921",
   "metadata": {},
   "outputs": [],
   "source": [
    "df[\"text_a\"] = df[\"conversation_a\"]\n",
    "df[\"text_b\"] = df[\"conversation_b\"]\n",
    "df[\"preferred_text\"] = df[\"winner\"]\n",
    "\n",
    "def transform_winner(row):\n",
    "    if row[\"winner\"] == \"model_a\":\n",
    "        return \"text_a\"\n",
    "    else:\n",
    "        return \"text_b\"\n",
    "\n",
    "df[\"preferred_text\"] = df.apply(transform_winner, axis=1)\n",
    "\n",
    "df.to_csv(\"../data/output/arena100k_multiturn_2k_english.csv\", index=False)"
   ]
  },
  {
   "cell_type": "code",
   "execution_count": null,
   "id": "f7c45e4b",
   "metadata": {},
   "outputs": [],
   "source": []
  }
 ],
 "metadata": {
  "kernelspec": {
   "display_name": "Python 3",
   "language": "python",
   "name": "python3"
  },
  "language_info": {
   "codemirror_mode": {
    "name": "ipython",
    "version": 3
   },
   "file_extension": ".py",
   "mimetype": "text/x-python",
   "name": "python",
   "nbconvert_exporter": "python",
   "pygments_lexer": "ipython3",
   "version": "3.13.1"
  }
 },
 "nbformat": 4,
 "nbformat_minor": 5
}
