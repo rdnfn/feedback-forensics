{
 "cells": [
  {
   "cell_type": "code",
   "execution_count": 1,
   "metadata": {},
   "outputs": [],
   "source": [
    "import pathlib\n",
    "import json\n",
    "\n",
    "results_path = pathlib.Path(\"/Users/arduin/main/repos/github/feedback-forensics/feedback-forensics-results-paper\")\n",
    "sanitize_path = pathlib.Path(\"/Users/arduin/main/repos/github/feedback-forensics/feedback-forensics-annotations\")\n",
    "\n",
    "# ensure sanitize path exists\n",
    "sanitize_path.mkdir(parents=True, exist_ok=True)\n",
    "\n",
    "# get all json files in the results path\n",
    "json_files = list(results_path.glob(\"./*.json\"))\n",
    "\n",
    "# load all json files\n",
    "json_data = {file.name: json.load(open(file)) for file in json_files}"
   ]
  },
  {
   "cell_type": "code",
   "execution_count": 2,
   "metadata": {},
   "outputs": [
    {
     "name": "stdout",
     "output_type": "stream",
     "text": [
      "dict_keys(['llama4_arena_vs_public_version.json', 'chatbot_arena.json', 'allenai_multipref.json', 'model_comparison.json', 'prism.json'])\n"
     ]
    }
   ],
   "source": [
    "print((json_data.keys()))"
   ]
  },
  {
   "cell_type": "code",
   "execution_count": 3,
   "metadata": {},
   "outputs": [
    {
     "name": "stdout",
     "output_type": "stream",
     "text": [
      "Sanitizing llama4_arena_vs_public_version.json...\n",
      "Sanitizing chatbot_arena.json...\n",
      "Sanitizing allenai_multipref.json...\n",
      "Sanitizing model_comparison.json...\n",
      "Sanitizing prism.json...\n"
     ]
    }
   ],
   "source": [
    "# dict_keys(['llama4_arena_vs_public_version.json', 'chatbot_arena.json', 'allenai_multipref.json', 'model_comparison.json', 'prism.json'])\n",
    "\n",
    "\n",
    "meta_data_to_keep={\n",
    "    \"allenai_multipref.json\": [\"prompt_id\",\"comparison_id\"],\n",
    "    \"chatbot_arena.json\": [\"question_id\", \"judge_hash\"],\n",
    "    \"llama4_arena_vs_public_version.json\": [\"model_a\", \"model_b\"],\n",
    "    \"prism.json\": [\"conversation_id\", \"chosen_model\", \"rejected_model\"],\n",
    "    \"model_comparison.json\": [\"prompt_id\"],\n",
    "}\n",
    "\n",
    "def sanitize_dataset(data: dict, meta_data_to_keep: list):\n",
    "    data[\"metadata\"][\"available_metadata_keys_per_comparison\"] = meta_data_to_keep + [\"response_a_length\", \"response_b_length\"]\n",
    "\n",
    "    for comparison in data[\"comparisons\"]:\n",
    "        # v1.0\n",
    "        if data[\"metadata\"][\"version\"] == \"1.0\":\n",
    "            assert \"text_a\" in comparison and \"text_b\" in comparison\n",
    "            comparison[\"metadata\"][\"response_a_length\"] = len(comparison[\"text_a\"])\n",
    "            comparison[\"metadata\"][\"response_b_length\"] = len(comparison[\"text_b\"])\n",
    "            comparison[\"prompt\"] = None\n",
    "            comparison[\"text_a\"] = None\n",
    "            comparison[\"text_b\"] = None\n",
    "        else:\n",
    "            assert \"response_a\" in comparison and \"response_b\" in comparison\n",
    "            comparison[\"metadata\"][\"response_a_length\"] = len(comparison[\"response_a\"][\"text\"])\n",
    "            comparison[\"metadata\"][\"response_b_length\"] = len(comparison[\"response_b\"][\"text\"])\n",
    "\n",
    "            # delete text from response_a and response_b\n",
    "            comparison[\"response_a\"][\"text\"] = None\n",
    "            comparison[\"response_b\"][\"text\"] = None\n",
    "            comparison[\"prompt\"] = None\n",
    "\n",
    "        for key in meta_data_to_keep:\n",
    "            assert key in comparison[\"metadata\"], f\"{key} not in {comparison['metadata'].keys()}\"\n",
    "\n",
    "        # remove metadata keys that are not in the meta_data_to_keep list\n",
    "        new_metadata = {}\n",
    "        for key in comparison[\"metadata\"].keys():\n",
    "            if key in meta_data_to_keep:\n",
    "                new_metadata[key] = comparison[\"metadata\"][key]\n",
    "        comparison[\"metadata\"] = new_metadata\n",
    "\n",
    "\n",
    "    return data\n",
    "\n",
    "combined_sanitized_data = {}\n",
    "for dataset_name, data in json_data.items():\n",
    "    print(f\"Sanitizing {dataset_name}...\")\n",
    "    sanitized_data = sanitize_dataset(data, meta_data_to_keep[dataset_name])\n",
    "    combined_sanitized_data[dataset_name] = sanitized_data\n",
    "    with open(sanitize_path / dataset_name, \"w\") as f:\n",
    "        json.dump(sanitized_data, f, indent=4)\n",
    "\n",
    "\n"
   ]
  },
  {
   "cell_type": "code",
   "execution_count": null,
   "metadata": {},
   "outputs": [],
   "source": []
  }
 ],
 "metadata": {
  "kernelspec": {
   "display_name": "Python 3",
   "language": "python",
   "name": "python3"
  },
  "language_info": {
   "codemirror_mode": {
    "name": "ipython",
    "version": 3
   },
   "file_extension": ".py",
   "mimetype": "text/x-python",
   "name": "python",
   "nbconvert_exporter": "python",
   "pygments_lexer": "ipython3",
   "version": "3.13.1"
  }
 },
 "nbformat": 4,
 "nbformat_minor": 2
}
