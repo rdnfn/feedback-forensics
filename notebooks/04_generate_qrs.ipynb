{
 "cells": [
  {
   "cell_type": "code",
   "execution_count": null,
   "metadata": {},
   "outputs": [],
   "source": [
    "import qrcode\n",
    "import pathlib\n",
    "\n",
    "qr_codes = {\n",
    "    \"github\": \"https://github.com/rdnfn/feedback-forensics\",\n",
    "    \"app\": \"https://app.feedbackforensics.com\",\n",
    "    \"docs\": \"https://docs.feedbackforensics.com\",\n",
    "}\n",
    "\n",
    "qr_code_dir = pathlib.Path(\"output/qr_codes\")\n",
    "qr_code_dir.mkdir(parents=True, exist_ok=True)\n",
    "\n",
    "for name, url in qr_codes.items():\n",
    "    qr = qrcode.QRCode(\n",
    "        version=4,\n",
    "        box_size=100,\n",
    "        border=0,\n",
    "    )\n",
    "    qr.add_data(url)\n",
    "    qr.make(fit=True)\n",
    "\n",
    "    img = qr.make_image(fill_color=\"black\", back_color=\"#fff2cc\")\n",
    "    img.save(qr_code_dir / f\"ff_qr_{name}.png\")\n",
    "\n",
    "print(\"QR codes generated successfully\")"
   ]
  },
  {
   "cell_type": "code",
   "execution_count": null,
   "metadata": {},
   "outputs": [],
   "source": []
  }
 ],
 "metadata": {
  "kernelspec": {
   "display_name": "Python 3",
   "language": "python",
   "name": "python3"
  },
  "language_info": {
   "codemirror_mode": {
    "name": "ipython",
    "version": 3
   },
   "file_extension": ".py",
   "mimetype": "text/x-python",
   "name": "python",
   "nbconvert_exporter": "python",
   "pygments_lexer": "ipython3",
   "version": "3.13.1"
  }
 },
 "nbformat": 4,
 "nbformat_minor": 2
}
