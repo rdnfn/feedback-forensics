{
 "cells": [
  {
   "cell_type": "markdown",
   "metadata": {},
   "source": [
    "# API Reference 🔌\n",
    "\n",
    "## Python API\n",
    "\n",
    "Feedback Forensics can be used to interpret annotator data within Python. Below is a minimal example:\n",
    "\n",
    "```python\n",
    "import feedback_forensics as ff\n",
    "\n",
    "# load dataset from AnnotatedPairs json file produced by ICAI package\n",
    "dataset = ff.DatasetHandler()\n",
    "dataset.add_data_from_path(\"data/output/example/annotated_pairs.json\")\n",
    "\n",
    "overall_metrics = dataset.get_overall_metrics()\n",
    "annotator_metrics = dataset.get_annotator_metrics()\n",
    "```\n",
    "\n",
    "## Command Line Interface\n",
    "\n",
    "### feedback-forensics\n",
    "Main CLI command for launching the analysis interface."
   ]
  },
  {
   "cell_type": "code",
   "execution_count": null,
   "metadata": {},
   "outputs": [],
   "source": [
    "!feedback-forensics --help"
   ]
  },
  {
   "cell_type": "markdown",
   "metadata": {
    "vscode": {
     "languageId": "plaintext"
    }
   },
   "source": [
    "### ff-annotate\n",
    "CLI command for annotating datasets with ICAI."
   ]
  },
  {
   "cell_type": "code",
   "execution_count": null,
   "metadata": {},
   "outputs": [],
   "source": [
    "!ff-annotate --help"
   ]
  },
  {
   "cell_type": "code",
   "execution_count": null,
   "metadata": {},
   "outputs": [],
   "source": []
  }
 ],
 "metadata": {
  "kernelspec": {
   "display_name": "Python 3",
   "language": "python",
   "name": "python3"
  },
  "language_info": {
   "codemirror_mode": {
    "name": "ipython",
    "version": 3
   },
   "file_extension": ".py",
   "mimetype": "text/x-python",
   "name": "python",
   "nbconvert_exporter": "python",
   "pygments_lexer": "ipython3",
   "version": "3.13.1"
  }
 },
 "nbformat": 4,
 "nbformat_minor": 2
}
