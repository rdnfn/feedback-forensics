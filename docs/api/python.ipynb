{
 "cells": [
  {
   "cell_type": "markdown",
   "metadata": {},
   "source": [
    "# Python API\n",
    "\n",
    "Feedback Forensics can be used to interpret annotator data within Python. Below is a minimal example:\n",
    "\n",
    "```python\n",
    "import feedback_forensics as ff\n",
    "\n",
    "# load dataset from AnnotatedPairs json file produced by ICAI package\n",
    "dataset = ff.DatasetHandler()\n",
    "dataset.add_data_from_path(\"data/output/example/annotated_pairs.json\")\n",
    "\n",
    "overall_metrics = dataset.get_overall_metrics()\n",
    "annotator_metrics = dataset.get_annotator_metrics()\n",
    "```\n",
    "\n",
    "## DatasetHandler\n",
    "\n",
    "```{autodoc2-object} feedback_forensics.data.handler.DatasetHandler\n",
    "render_plugin = \"myst\"\n",
    "no_index = false\n",
    "```\n",
    "\n",
    "\n",
    "\n",
    "## Comprehensive API docs\n",
    "\n",
    "See the [comprehensive API docs here](../apidocs/index.rst)"
   ]
  },
  {
   "cell_type": "code",
   "execution_count": null,
   "metadata": {},
   "outputs": [],
   "source": []
  }
 ],
 "metadata": {
  "kernelspec": {
   "display_name": "Python 3",
   "language": "python",
   "name": "python3"
  },
  "language_info": {
   "codemirror_mode": {
    "name": "ipython",
    "version": 3
   },
   "file_extension": ".py",
   "mimetype": "text/x-python",
   "name": "python",
   "nbconvert_exporter": "python",
   "pygments_lexer": "ipython3",
   "version": "3.13.1"
  }
 },
 "nbformat": 4,
 "nbformat_minor": 2
}
