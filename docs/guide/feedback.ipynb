{
 "cells": [
  {
   "cell_type": "markdown",
   "metadata": {},
   "source": [
    "# Getting started:<br> Measure personality encouraged by feedback 🗣️ "
   ]
  },
  {
   "cell_type": "markdown",
   "metadata": {},
   "source": [
    "In this tutorial, we show how to use *Feedback Forensics* to measure the personality traits encouraged by a pairwise feedback dataset. This analysis will allow us to answer whether the given dataset encourages, for example, *more confident* or *friendlier* models. This tutorial is structured as follows:\n",
    "\n",
    "1. **Load data:** Load illustrative example dataset\n",
    "3. **Annotate data:** Annotate personality traits in the dataset\n",
    "4. **Personality analysis:** Analyse your model's personality with the app 🎉\n",
    "5. **Bonus - Python analysis:** Analyse your model's personality using Python API\n",
    "\n",
    "\n",
    "\n",
    "```{important}\n",
    "To run all cells, this tutorial requires the `OPENROUTER_API_KEY` variable to be set.\n",
    "```\n",
    "\n",
    "## 1. Setting up the data\n",
    "\n",
    "To apply the Feedback Forensics analysis, we need a `csv` dataset with the following columns: `text_a`, `text_b`, and `preferred_text`. Optionally `prompt`, `model_a` and `model_b` columns can also be included (but these are not *necessary*). Below, we create an illustrative mini dataset to run our analysis on. Replace this dataset with your own data as suitable."
   ]
  },
  {
   "cell_type": "code",
   "execution_count": null,
   "metadata": {},
   "outputs": [],
   "source": [
    "import pandas as pd\n",
    "import pathlib\n",
    "\n",
    "tmp_dir = pathlib.Path(\"tmp\")\n",
    "tmp_dir.mkdir(exist_ok=True)\n",
    "\n",
    "example_df = pd.DataFrame(\n",
    "    [\n",
    "        {\"prompt\": \"How are you?\", \"text_a\": \"Ok\", \"text_b\": \"I'm good, thanks for asking.\", \"preferred_text\": \"text_b\"},\n",
    "        {\"prompt\": \"What's a good name for a cat?\", \"text_a\": \"What a stupid question!\", \"text_b\": \"I'd suggest 'Whiskers'.\", \"preferred_text\": \"text_b\"},\n",
    "        {\"prompt\": \"Is Feedback Forensics a great tool?\", \"text_a\": \"Yes, it is a great tool. Thank you for asking.\", \"text_b\": \"Yes.\", \"preferred_text\": \"text_a\"},\n",
    "    ]\n",
    ")\n",
    "example_df.to_csv(tmp_dir / \"example_data.csv\", index=False)\n",
    "example_df.head()"
   ]
  },
  {
   "cell_type": "markdown",
   "metadata": {},
   "source": [
    "## 2. Annotating the data\n",
    "\n",
    "Then we use the `ff-annotate` CLI to collect annotations for personality traits on our dataset. The annotated results will be saved to the `annotated_data/` dir."
   ]
  },
  {
   "cell_type": "code",
   "execution_count": null,
   "metadata": {
    "tags": [
     "scroll-output",
     "hide-output"
    ]
   },
   "outputs": [],
   "source": [
    "!ff-annotate --datapath tmp/example_data.csv --output-dir tmp/annotated_data"
   ]
  },
  {
   "cell_type": "markdown",
   "metadata": {},
   "source": [
    "## 3. Visualising encouraged personality with app\n",
    "\n",
    "Finally, we use the Feedback Forensics App to visualise the results."
   ]
  },
  {
   "cell_type": "markdown",
   "metadata": {},
   "source": [
    "```sh\n",
    "feedback-forensics -d tmp/annotated_data/results/070_annotations_train_ap.json\n",
    "```"
   ]
  },
  {
   "cell_type": "markdown",
   "metadata": {},
   "source": [
    "Illustrative screenshot of the visualisation ([see here](https://app.feedbackforensics.com/?data=chatbot_arena) for an online example of a visualised result on Chatbot Arena data):\n",
    "\n",
    "```{figure}  ../img/example10_annotation_app.png\n",
    ":alt: screenshot\n",
    ":width: 400px\n",
    ":align: center\n",
    "---\n",
    "name: screenshot\n",
    "---\n",
    "```\n"
   ]
  },
  {
   "cell_type": "markdown",
   "metadata": {},
   "source": [
    "## Bonus: Computing metrics in Python\n",
    "\n",
    "As an alternative to the app, we can also use the Feedback Forensics Python API to compute personality metrics."
   ]
  },
  {
   "cell_type": "code",
   "execution_count": null,
   "metadata": {},
   "outputs": [],
   "source": [
    "import feedback_forensics as ff\n",
    "import pandas as pd\n",
    "\n",
    "# load data\n",
    "dataset = ff.DatasetHandler()\n",
    "dataset.add_data_from_path(\"tmp/annotated_data/results/070_annotations_train_ap.json\")\n",
    "\n",
    "# compute metrics\n",
    "annotator_metrics = dataset.get_annotator_metrics()"
   ]
  },
  {
   "cell_type": "code",
   "execution_count": null,
   "metadata": {},
   "outputs": [],
   "source": [
    "# Get strength of each personality trait\n",
    "kappa = pd.Series(annotator_metrics[\"070_annotations_train_ap\"][\"metrics\"][\"strength\"])\n",
    "\n",
    "# Get top 5 personality traits (by strength)\n",
    "print(f\"\\n## Top 5 encouraged personality traits (by strength):\\n{kappa.sort_values(ascending=False).head(5)}\")\n",
    "\n",
    "print(f\"\\n## Bottom 5 personality traits (by strength):\\n{kappa.sort_values(ascending=True).head(5)}\")"
   ]
  }
 ],
 "metadata": {
  "kernelspec": {
   "display_name": "Python 3",
   "language": "python",
   "name": "python3"
  },
  "language_info": {
   "codemirror_mode": {
    "name": "ipython",
    "version": 3
   },
   "file_extension": ".py",
   "mimetype": "text/x-python",
   "name": "python",
   "nbconvert_exporter": "python",
   "pygments_lexer": "ipython3",
   "version": "3.13.1"
  }
 },
 "nbformat": 4,
 "nbformat_minor": 2
}
