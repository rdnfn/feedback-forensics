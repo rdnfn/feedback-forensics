{
 "cells": [
  {
   "cell_type": "markdown",
   "metadata": {},
   "source": [
    "# Getting started:<br>Measure personality encouraged by feedback 🗣️ "
   ]
  },
  {
   "cell_type": "markdown",
   "metadata": {},
   "source": [
    "In this tutorial, we show how to use *Feedback Forensics* to measure the personality traits encouraged by a pairwise feedback dataset. This analysis will allow us to answer whether the given dataset encourages *more confident* models.\n",
    "\n",
    "## Setting up the data\n",
    "\n",
    "To apply the Feedback Forensics analysis, we need a `csv` dataset with the following columns: `text_a`, `text_b`, and `preferred_text`. Optionally `prompt`, `model_a` and `model_b` columns can also be included (but these are not *necessary*). Below, we create an illustrative mini dataset to run our analysis on. Replace this dataset with your own data as suitable."
   ]
  },
  {
   "cell_type": "code",
   "execution_count": null,
   "metadata": {},
   "outputs": [],
   "source": [
    "import pandas as pd\n",
    "import pathlib\n",
    "\n",
    "tmp_dir = pathlib.Path(\"tmp\")\n",
    "tmp_dir.mkdir(exist_ok=True)\n",
    "\n",
    "example_df = pd.DataFrame(\n",
    "    [\n",
    "        {\"prompt\": \"How are you?\", \"text_a\": \"Ok\", \"text_b\": \"I'm good, thanks for asking.\", \"preferred_text\": \"text_b\"},\n",
    "        {\"prompt\": \"What's a good name for a cat?\", \"text_a\": \"What a stupid question!\", \"text_b\": \"I'd suggest 'Whiskers'.\", \"preferred_text\": \"text_b\"},\n",
    "        {\"prompt\": \"Is Feedback Forensics a great tool?\", \"text_a\": \"Yes, it is a great tool. Thank you for asking.\", \"text_b\": \"Yes.\", \"preferred_text\": \"text_a\"},\n",
    "    ]\n",
    ")\n",
    "example_df.to_csv(tmp_dir / \"example_data.csv\", index=False)\n",
    "example_df.head()"
   ]
  },
  {
   "cell_type": "markdown",
   "metadata": {},
   "source": [
    "## Annotating the data\n",
    "\n",
    "Then we use the `ff-annotate` CLI to collect personality annotations for our dataset. The annotated results will be saved to the `annotated_data/` dir."
   ]
  },
  {
   "cell_type": "code",
   "execution_count": null,
   "metadata": {
    "tags": [
     "scroll-output"
    ]
   },
   "outputs": [],
   "source": [
    "!ff-annotate --datapath example_data.csv --output-dir tmp/annotated_data"
   ]
  },
  {
   "cell_type": "markdown",
   "metadata": {},
   "source": [
    "## Loading the results in Python\n",
    "\n",
    "Next, we use the Feedback Forensics Python API to compute personality metrics."
   ]
  },
  {
   "cell_type": "code",
   "execution_count": null,
   "metadata": {},
   "outputs": [],
   "source": []
  },
  {
   "cell_type": "markdown",
   "metadata": {},
   "source": [
    "## Visualising the results with app\n",
    "\n",
    "Finally, we use the Feedback Forensics App to visualise the results."
   ]
  },
  {
   "cell_type": "markdown",
   "metadata": {},
   "source": [
    "```sh\n",
    "feedback-forensics -d annotated_data/results/070_annotations_train_ap.json\n",
    "```"
   ]
  },
  {
   "cell_type": "markdown",
   "metadata": {},
   "source": []
  }
 ],
 "metadata": {
  "kernelspec": {
   "display_name": "Python 3",
   "language": "python",
   "name": "python3"
  },
  "language_info": {
   "codemirror_mode": {
    "name": "ipython",
    "version": 3
   },
   "file_extension": ".py",
   "mimetype": "text/x-python",
   "name": "python",
   "nbconvert_exporter": "python",
   "pygments_lexer": "ipython3",
   "version": "3.13.1"
  }
 },
 "nbformat": 4,
 "nbformat_minor": 2
}
