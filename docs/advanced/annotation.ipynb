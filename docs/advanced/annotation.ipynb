{
 "cells": [
  {
   "cell_type": "markdown",
   "metadata": {},
   "source": [
    "## Tested personality traits ✍️\n",
    "\n",
    "In this guide we go through how to configure the personality traits that are annotated and evaluated with Feedback Forensics. We go through the traits *tested by default*, how to *set custom traits* and how to *automatically generate new traits*.\n",
    "\n",
    "### Default personality traits tested\n",
    "\n",
    "Below are the principles tested by default when using `ff-annotate`."
   ]
  },
  {
   "cell_type": "code",
   "execution_count": null,
   "metadata": {
    "tags": [
     "scroll-output"
    ]
   },
   "outputs": [],
   "source": [
    "from feedback_forensics.tools.ff_annotate import get_default_principles\n",
    "\n",
    "get_default_principles()"
   ]
  },
  {
   "cell_type": "markdown",
   "metadata": {},
   "source": [
    "### Annotating custom personality traits\n",
    "\n",
    "To annotate the data with our own custom personality traits we use the `--principles` argument of `ff-annotate`. Note that the value will be loaded by `json.loads()`. Thus, principles should be surrounded by double quotes (`\"`) and otherwise comply with json list format. To avoid testing the standard principles as well, simply set the `--principle-version` argument to an empty string `\"\"`."
   ]
  },
  {
   "cell_type": "code",
   "execution_count": null,
   "metadata": {
    "tags": [
     "scroll-output",
     "hide-output"
    ]
   },
   "outputs": [],
   "source": [
    "!ff-annotate -d=\"../../data/input/example.csv\" --principles '[\"Select the response that is more confident\",\"Select the response that is more friendly\"]' --principles-version \"\""
   ]
  },
  {
   "cell_type": "markdown",
   "metadata": {},
   "source": [
    "### Automatically detecting personality traits\n",
    "\n",
    "You can also use [Inverse Constitutional AI](https://github.com/rdnfn/icai) to automatically detect personality traits that may help explain your dataset. See the `s0_skip_principle_generation=false` to allow the pipeline to automatically generate principles that appear to separate responses in the dataset."
   ]
  },
  {
   "cell_type": "code",
   "execution_count": null,
   "metadata": {
    "tags": [
     "scroll-output",
     "hide-output"
    ]
   },
   "outputs": [],
   "source": [
    "!icai-exp data_path=\"../../data/input/example.csv\" s0_added_standard_principles_to_test=\"[v2]\" annotator.skip=true s0_skip_principle_generation=false"
   ]
  }
 ],
 "metadata": {
  "kernelspec": {
   "display_name": "Python 3",
   "language": "python",
   "name": "python3"
  },
  "language_info": {
   "codemirror_mode": {
    "name": "ipython",
    "version": 3
   },
   "file_extension": ".py",
   "mimetype": "text/x-python",
   "name": "python",
   "nbconvert_exporter": "python",
   "pygments_lexer": "ipython3",
   "version": "3.13.1"
  }
 },
 "nbformat": 4,
 "nbformat_minor": 2
}
